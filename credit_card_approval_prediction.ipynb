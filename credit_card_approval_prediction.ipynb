{
  "nbformat": 4,
  "nbformat_minor": 0,
  "metadata": {
    "colab": {
      "name": "credit-card-approval-prediction.ipynb",
      "provenance": [],
      "collapsed_sections": [],
      "authorship_tag": "ABX9TyNz0OP8tmRoOKRMTLe/p3rO"
    },
    "kernelspec": {
      "name": "python3",
      "display_name": "Python 3"
    }
  },
  "cells": [
    {
      "cell_type": "markdown",
      "metadata": {
        "id": "isFj09MOzgSV"
      },
      "source": [
        "# Project Credit Card Approval Prediction"
      ]
    },
    {
      "cell_type": "markdown",
      "metadata": {
        "id": "K0tGwhnGzn2X"
      },
      "source": [
        "###### Credit score for issuing cards are a common risk control method in the financial industry. It uses personal information and data submitted by credit card applicants to predict the probability of future defaults and credit card borrowings. The bank is able to decide whether to issue a credit card to the applicant. Credit scores can objectively quantify the magnitude of risk.\r\n",
        " \r\n",
        "Usually, credit score are based on historical data. Once encountering large economic fluctuations. Past models may lose their original predictive power. \r\n",
        "\r\n",
        "Logistic model is a common method for credit scoring. Because Logistic is suitable for binary classification tasks and can calculate the coefficients of each feature. \r\n",
        "\r\n",
        "In order to facilitate understanding and operation, the score card will multiply the logistic regression coefficient by a certain value (such as 100) and round it.\r\n",
        " \r\n",
        "At present, with the development of machine learning algorithms, more predictive methods such as Boosting, Random Forest, and Support Vector Machines have been introduced into credit card scoring. However, these methods often do not have good transparency. \r\n",
        "\r\n",
        "It may be difficult to provide customers and regulators with a reason for rejection or acceptance."
      ]
    },
    {
      "cell_type": "markdown",
      "metadata": {
        "id": "p3pGoSaO0oR8"
      },
      "source": [
        "# Project Goal"
      ]
    },
    {
      "cell_type": "markdown",
      "metadata": {
        "id": "G9HlQAiF08o7"
      },
      "source": [
        "###### Build a machine learning model to predict if an applicant is 'good' or 'bad' client, different from other tasks, the definition of 'good' or 'bad' is not given. \r\n",
        "\r\n",
        "We should use some techique, such as vintage analysis to construct label. Also, unbalance data problem is a big problem in this task which needs to be resolved to have unbias model."
      ]
    },
    {
      "cell_type": "code",
      "metadata": {
        "id": "iKOltBRd0qz7"
      },
      "source": [
        ""
      ],
      "execution_count": null,
      "outputs": []
    }
  ]
}